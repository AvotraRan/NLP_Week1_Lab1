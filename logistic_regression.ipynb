{
 "cells": [
  {
   "cell_type": "markdown",
   "metadata": {},
   "source": [
    "# Santatriniaina Avotra Randrianambinina"
   ]
  },
  {
   "cell_type": "markdown",
   "metadata": {},
   "source": [
    "In this second part of the lab, we will implement a language identifier trained on the same data, but using Logistic Regression instead of Naive Bayes."
   ]
  },
  {
   "cell_type": "code",
   "execution_count": 1,
   "metadata": {},
   "outputs": [],
   "source": [
    "import io, sys, math\n",
    "import numpy as np\n",
    "from collections import defaultdict"
   ]
  },
  {
   "cell_type": "markdown",
   "metadata": {},
   "source": [
    "This function is used to build the dictionary, or vocabulary, which is a mapping from strings (or words) to integers (or indices). This will allow to build vector representations of documents. "
   ]
  },
  {
   "cell_type": "code",
   "execution_count": 2,
   "metadata": {},
   "outputs": [],
   "source": [
    "def build_dict(filename, threshold=1):\n",
    "    fin = io.open(filename, 'r', encoding='utf-8')\n",
    "    word_dict, label_dict = {}, {}\n",
    "    counts = defaultdict(lambda: 0)\n",
    "    for line in fin:\n",
    "        tokens = line.split()\n",
    "        label = tokens[0]\n",
    "\n",
    "        if not label in label_dict:\n",
    "            label_dict[label] = len(label_dict)\n",
    "\n",
    "        for w in tokens[1:]:\n",
    "            counts[w] += 1\n",
    "            \n",
    "    for k, v in counts.items():\n",
    "        if v > threshold:\n",
    "            word_dict[k] = len(word_dict)\n",
    "    return word_dict, label_dict"
   ]
  },
  {
   "cell_type": "markdown",
   "metadata": {},
   "source": [
    "This function is used to load the training dataset, and build vector representations of the training examples. In particular, a document or sentence is represented as a bag of words. Each example correspond to a sparse vector ` x` of dimension `V`, where `V` is the size of the vocabulary. The element `j` of the vector `x` is the number of times the word `j` appears in the document."
   ]
  },
  {
   "cell_type": "code",
   "execution_count": 3,
   "metadata": {},
   "outputs": [],
   "source": [
    "def load_data(filename, word_dict, label_dict):\n",
    "    fin = io.open(filename, 'r', encoding='utf-8')\n",
    "    data = []\n",
    "    dim = len(word_dict)\n",
    "    for line in fin:\n",
    "        tokens = line.split()\n",
    "        label = tokens[0]\n",
    "\n",
    "        yi = label_dict[label]\n",
    "        xi = np.zeros(dim)\n",
    "        for word in tokens[1:]:\n",
    "            if word in word_dict:\n",
    "                wid = word_dict[word]\n",
    "                xi[wid] += 1.0\n",
    "        data.append((yi, xi))\n",
    "    return data"
   ]
  },
  {
   "cell_type": "code",
   "execution_count": 4,
   "metadata": {},
   "outputs": [],
   "source": [
    "word_dict1, label_dict1 = build_dict(\"./data/train1.txt\")"
   ]
  },
  {
   "cell_type": "code",
   "execution_count": 5,
   "metadata": {},
   "outputs": [
    {
     "data": {
      "text/plain": [
       "[(0, array([1., 1., 1., ..., 0., 0., 0.])),\n",
       " (0, array([0., 0., 0., ..., 0., 0., 0.])),\n",
       " (1, array([0., 0., 0., ..., 0., 0., 0.])),\n",
       " (0, array([0., 0., 0., ..., 0., 0., 0.])),\n",
       " (2, array([0., 0., 0., ..., 0., 0., 0.])),\n",
       " (3, array([0., 0., 0., ..., 0., 0., 0.])),\n",
       " (2, array([0., 0., 0., ..., 0., 0., 0.])),\n",
       " (4, array([0., 0., 0., ..., 0., 0., 0.])),\n",
       " (5, array([0., 0., 0., ..., 0., 0., 0.])),\n",
       " (2, array([0., 0., 0., ..., 0., 0., 0.]))]"
      ]
     },
     "execution_count": 5,
     "metadata": {},
     "output_type": "execute_result"
    }
   ],
   "source": [
    "mydata1=load_data(\"./data/train1.txt\", word_dict1, label_dict1)\n",
    "mydata1[:10]"
   ]
  },
  {
   "cell_type": "code",
   "execution_count": 6,
   "metadata": {},
   "outputs": [],
   "source": [
    "word_dict2, label_dict2 = build_dict(\"./data/train2.txt\")"
   ]
  },
  {
   "cell_type": "code",
   "execution_count": 7,
   "metadata": {},
   "outputs": [
    {
     "data": {
      "text/plain": [
       "[(0, array([1., 1., 1., ..., 0., 0., 0.])),\n",
       " (0, array([0., 0., 0., ..., 0., 0., 0.])),\n",
       " (1, array([0., 0., 0., ..., 0., 0., 0.])),\n",
       " (0, array([0., 0., 0., ..., 0., 0., 0.])),\n",
       " (2, array([0., 0., 0., ..., 0., 0., 0.])),\n",
       " (3, array([0., 0., 0., ..., 0., 0., 0.])),\n",
       " (2, array([0., 0., 0., ..., 0., 0., 0.])),\n",
       " (4, array([0., 0., 0., ..., 0., 0., 0.])),\n",
       " (5, array([0., 0., 0., ..., 0., 0., 0.])),\n",
       " (2, array([0., 0., 0., ..., 0., 0., 0.]))]"
      ]
     },
     "execution_count": 7,
     "metadata": {},
     "output_type": "execute_result"
    }
   ],
   "source": [
    "mydata2=load_data(\"./data/train2.txt\", word_dict2, label_dict2)\n",
    "mydata2[:10]"
   ]
  },
  {
   "cell_type": "markdown",
   "metadata": {},
   "source": [
    "First, let's implement the softmax function. Don't forget numerical stability!"
   ]
  },
  {
   "cell_type": "code",
   "execution_count": 8,
   "metadata": {},
   "outputs": [],
   "source": [
    "def softmax(x):\n",
    "    ### FILL CODE\n",
    "    z=x.max()\n",
    "    return np.exp(x-z)/np.sum(np.exp(x-z))"
   ]
  },
  {
   "cell_type": "markdown",
   "metadata": {},
   "source": [
    "Now, let's implement the main training loop, by using stochastic gradient descent. The function will iterate over the examples of the training set. For each example, we will first compute the loss, before computing the gradient and performing the update."
   ]
  },
  {
   "cell_type": "code",
   "execution_count": 9,
   "metadata": {},
   "outputs": [],
   "source": [
    "def sgd(w, data, niter):\n",
    "    nlabels, dim = w.shape\n",
    "    eta_t=.2\n",
    "    for iter in range(niter):\n",
    "        ### FILL CODE\n",
    "        train_loss = 0.0\n",
    "        for yi, xi in data:\n",
    "            o = softmax(np.dot(w, xi))\n",
    "            loss = -np.log(o[yi])/len(o)\n",
    "            train_loss += loss\n",
    "            target = np.zeros(nlabels)\n",
    "            target[yi] = 1.0\n",
    "        \n",
    "            grad = (target - o).reshape(nlabels, 1) @ xi.reshape(1, -1)\n",
    "            \n",
    "            w = w+ eta_t * grad\n",
    "            \n",
    "        print(\"Iter: \"+ str(iter)+\" ---> \"+\" Loss: \" + str(train_loss/len(data)))\n",
    "        \n",
    "    return w"
   ]
  },
  {
   "cell_type": "markdown",
   "metadata": {},
   "source": [
    "The next function will predict the most probable label corresponding to example `x`, given the trained classifier `w`."
   ]
  },
  {
   "cell_type": "code",
   "execution_count": 10,
   "metadata": {},
   "outputs": [],
   "source": [
    "def predict(w, x):\n",
    "    ## FILL CODE\n",
    "    prediction = np.argmax(softmax(np.dot(w, x)))\n",
    "    return prediction"
   ]
  },
  {
   "cell_type": "markdown",
   "metadata": {},
   "source": [
    "Finally, this function will compute the accuracy of a trained classifier `w` on a validation set."
   ]
  },
  {
   "cell_type": "code",
   "execution_count": 11,
   "metadata": {},
   "outputs": [],
   "source": [
    "def compute_accuracy(w, valid_data):\n",
    "    ## FILL CODE\n",
    "    accuracy = 0.0\n",
    "    N=len(valid_data)\n",
    "    for yi, xi in valid_data:\n",
    "        y_pred = predict(w, xi)\n",
    "        if y_pred == yi:\n",
    "            accuracy += 1.0\n",
    "    return accuracy/N"
   ]
  },
  {
   "cell_type": "code",
   "execution_count": 12,
   "metadata": {},
   "outputs": [
    {
     "name": "stdout",
     "output_type": "stream",
     "text": [
      "\n",
      "** Logistic Regression **\n",
      "\n",
      "Iter: 0 --->  Loss: 0.06712482701556115\n",
      "Iter: 1 --->  Loss: 0.03185184780525946\n",
      "Iter: 2 --->  Loss: 0.024371179618695994\n",
      "Iter: 3 --->  Loss: 0.020471371127610764\n",
      "Iter: 4 --->  Loss: 0.01798955594228999\n",
      "Iter: 5 --->  Loss: 0.016244737399564453\n",
      "Iter: 6 --->  Loss: 0.014940822860363065\n",
      "Iter: 7 --->  Loss: 0.013925236941765305\n",
      "Iter: 8 --->  Loss: 0.013110303297851646\n",
      "Iter: 9 --->  Loss: 0.012441530785925177\n",
      "Iter: 10 --->  Loss: 0.01188302878914523\n",
      "Iter: 11 --->  Loss: 0.011410032586141167\n",
      "Iter: 12 --->  Loss: 0.011004796796148809\n",
      "Iter: 13 --->  Loss: 0.01065420778727414\n",
      "Iter: 14 --->  Loss: 0.010348326769859702\n",
      "\n",
      "Validation accuracy: 0.930\n",
      "\n"
     ]
    }
   ],
   "source": [
    "print(\"\")\n",
    "print(\"** Logistic Regression **\")\n",
    "print(\"\")\n",
    "\n",
    "word_dict, label_dict = build_dict(\"./data/train1.txt\")\n",
    "train_data = load_data(\"./data/train1.txt\", word_dict, label_dict)\n",
    "valid_data = load_data(\"./data/valid1.txt\", word_dict, label_dict)\n",
    "\n",
    "nlabels = len(label_dict)\n",
    "dim = len(word_dict)\n",
    "w = np.zeros([nlabels, dim])\n",
    "w = sgd(w, train_data, 15)\n",
    "print(\"\")\n",
    "print(\"Validation accuracy: %.3f\" % compute_accuracy(w, valid_data))\n",
    "print(\"\")"
   ]
  },
  {
   "cell_type": "code",
   "execution_count": 13,
   "metadata": {},
   "outputs": [
    {
     "name": "stdout",
     "output_type": "stream",
     "text": [
      "\n",
      "** Logistic Regression **\n",
      "\n",
      "Iter: 0 --->  Loss: 0.030828269664962958\n",
      "Iter: 1 --->  Loss: 0.018644590408633328\n",
      "Iter: 2 --->  Loss: 0.016470928182644003\n",
      "Iter: 3 --->  Loss: 0.015358124170525646\n",
      "Iter: 4 --->  Loss: 0.014659626854255826\n",
      "Iter: 5 --->  Loss: 0.01417326269338114\n",
      "Iter: 6 --->  Loss: 0.01381225784242773\n",
      "Iter: 7 --->  Loss: 0.013532442681054375\n",
      "Iter: 8 --->  Loss: 0.013308693619250682\n",
      "Iter: 9 --->  Loss: 0.013125614024081913\n",
      "Iter: 10 --->  Loss: 0.012973218360321982\n",
      "Iter: 11 --->  Loss: 0.012844547160444317\n",
      "Iter: 12 --->  Loss: 0.012734550659137726\n",
      "Iter: 13 --->  Loss: 0.012639534012968698\n",
      "Iter: 14 --->  Loss: 0.012556728041093949\n",
      "\n",
      "Validation accuracy: 0.940\n",
      "\n"
     ]
    }
   ],
   "source": [
    "print(\"\")\n",
    "print(\"** Logistic Regression **\")\n",
    "print(\"\")\n",
    "\n",
    "word_dict, label_dict = build_dict(\"./data/train1.txt\")\n",
    "train_data = load_data(\"./data/train2.txt\", word_dict, label_dict)\n",
    "valid_data = load_data(\"./data/valid2.txt\", word_dict, label_dict)\n",
    "\n",
    "nlabels = len(label_dict)\n",
    "dim = len(word_dict)\n",
    "w = np.zeros([nlabels, dim])\n",
    "w = sgd(w, train_data, 15)\n",
    "print(\"\")\n",
    "print(\"Validation accuracy: %.3f\" % compute_accuracy(w, valid_data))\n",
    "print(\"\")"
   ]
  },
  {
   "cell_type": "code",
   "execution_count": null,
   "metadata": {},
   "outputs": [],
   "source": []
  }
 ],
 "metadata": {
  "kernelspec": {
   "display_name": "Python 3 (ipykernel)",
   "language": "python",
   "name": "python3"
  },
  "language_info": {
   "codemirror_mode": {
    "name": "ipython",
    "version": 3
   },
   "file_extension": ".py",
   "mimetype": "text/x-python",
   "name": "python",
   "nbconvert_exporter": "python",
   "pygments_lexer": "ipython3",
   "version": "3.9.7"
  }
 },
 "nbformat": 4,
 "nbformat_minor": 2
}
