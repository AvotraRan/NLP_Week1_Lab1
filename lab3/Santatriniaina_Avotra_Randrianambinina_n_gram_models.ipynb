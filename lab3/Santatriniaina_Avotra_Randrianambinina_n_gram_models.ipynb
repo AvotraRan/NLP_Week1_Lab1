{
 "cells": [
  {
   "cell_type": "markdown",
   "metadata": {},
   "source": [
    "## Santatriniaina Avotra Randrianambinina"
   ]
  },
  {
   "cell_type": "markdown",
   "metadata": {},
   "source": [
    "\n",
    "<h1 style=\"font-family:verdana;font-size:300%;text-align:center;background-color:#f2f2f2;color:#0d0d0d\">AMMI NLP - Review sessions</h1>\n",
    "\n",
    "<h1 style=\"font-family:verdana;font-size:180%;text-align:Center;color:#993333\"> Lab 3: n-gram models </h1>"
   ]
  },
  {
   "cell_type": "markdown",
   "metadata": {},
   "source": [
    "**Big thanks to Amr Khalifa who improved this lab and made it to a Jupyter Notebook!**"
   ]
  },
  {
   "cell_type": "code",
   "execution_count": 22,
   "metadata": {},
   "outputs": [],
   "source": [
    "import io, sys, math, re\n",
    "from collections import defaultdict\n",
    "import numpy as np"
   ]
  },
  {
   "cell_type": "code",
   "execution_count": 23,
   "metadata": {},
   "outputs": [],
   "source": [
    "# data_loader\n",
    "def load_data(filename):\n",
    "    '''\n",
    "    parameters:\n",
    "    filename (string): datafile\n",
    "    \n",
    "    Returns:\n",
    "    data (list of lists): each list is a sentence of the text \n",
    "    vocab (dictionary): {word: no of times it appears in the text}\n",
    "    '''\n",
    "    fin = io.open(filename, 'r', encoding='utf-8')\n",
    "    data = []\n",
    "    vocab = defaultdict(lambda:0)\n",
    "    for line in fin:\n",
    "        sentence = line.split()\n",
    "        data.append(sentence)\n",
    "        for word in sentence:\n",
    "            vocab[word] += 1\n",
    "    return data, vocab"
   ]
  },
  {
   "cell_type": "code",
   "execution_count": 24,
   "metadata": {},
   "outputs": [
    {
     "name": "stdout",
     "output_type": "stream",
     "text": [
      "Load training set with length: 5561\n",
      "['<s>', 'my', 'fathers', \"don't\", 'speak', 'dutch.', '</s>']\n",
      "\n",
      "\n",
      "liked: 7, decision: 2\n",
      "Load validation set with length: 62\n",
      "['<s>', 'we', 'agonized', 'over', 'the', 'decision', 'to', 'do', 'that.', '</s>']\n"
     ]
    }
   ],
   "source": [
    "train_data, vocab = load_data(\"./data/train1.txt\")\n",
    "print(\"Load training set with length: %d\" %len(train_data))\n",
    "print(train_data[0])\n",
    "print(\"\\n\")\n",
    "print(\"liked: %d, decision: %d\" %(vocab['liked'],vocab['decision']))\n",
    "valid_data, _ = load_data(\"./data/valid1.txt\")\n",
    "print(\"Load validation set with length: %d\" %len(valid_data))\n",
    "print(valid_data[0])"
   ]
  },
  {
   "cell_type": "code",
   "execution_count": 25,
   "metadata": {},
   "outputs": [],
   "source": [
    "def remove_rare_words(data, vocab, mincount = 1):\n",
    "    '''\n",
    "    Parameters:\n",
    "    data (list of lists): each list is a sentence of the text \n",
    "    vocab (dictionary): {word: no of times it appears in the text}\n",
    "    mincount(int): the minimum count \n",
    "    \n",
    "    Returns: \n",
    "    data_with_unk(list of lists): data after replacing rare words with <unk> token\n",
    "    '''\n",
    "## FILL CODE\n",
    "    data_with_unk = []\n",
    "    for sentences in data:   \n",
    "        for (idx , word) in enumerate(sentences):\n",
    "            #we do not need word in vocab since values of vocab account the word in sentence \n",
    "            #in the data as the function load_data():\n",
    "            sentences[idx]=word if word in vocab and vocab[word] > mincount else \"<unk>\"\n",
    "        data_with_unk.append(sentences)\n",
    "        \n",
    "    return data_with_unk"
   ]
  },
  {
   "cell_type": "code",
   "execution_count": 26,
   "metadata": {},
   "outputs": [
    {
     "name": "stdout",
     "output_type": "stream",
     "text": [
      "Data before removing the rare words\n",
      "['<s>', 'my', 'fathers', \"don't\", 'speak', 'dutch.', '</s>']\n",
      "['<s>', 'tom', 'showed', 'me', 'a', 'picture', 'of', 'the', 'food', 'they', 'had', 'eaten.', '</s>']\n",
      "['<s>', 'i', \"don't\", 'remember', 'the', 'last', 'time', 'tom', 'and', 'i', 'did', 'that', 'together.', '</s>']\n",
      "===================================================================================================================\n",
      "Data after removing the rare words\n",
      "['<s>', 'my', '<unk>', \"don't\", 'speak', '<unk>', '</s>']\n",
      "['<s>', 'tom', 'showed', 'me', 'a', 'picture', 'of', 'the', 'food', 'they', 'had', 'eaten.', '</s>']\n",
      "['<s>', 'i', \"don't\", 'remember', 'the', 'last', 'time', 'tom', 'and', 'i', 'did', 'that', 'together.', '</s>']\n",
      " \n"
     ]
    }
   ],
   "source": [
    "print(\"Data before removing the rare words\")\n",
    "# print(len(train_data))\n",
    "print(train_data[0])\n",
    "print(train_data[50])\n",
    "print(train_data[-1])\n",
    "print(\"=\"*115)\n",
    "print(\"Data after removing the rare words\")\n",
    "train_data = remove_rare_words(train_data, vocab, mincount = 1)\n",
    "valid_data = remove_rare_words(valid_data, vocab, mincount = 1)\n",
    "#train_data\n",
    "print(train_data[0])\n",
    "print(train_data[50])\n",
    "print(train_data[-1])\n",
    "print(\" \")\n",
    "# print(len(train_data))"
   ]
  },
  {
   "cell_type": "code",
   "execution_count": 27,
   "metadata": {},
   "outputs": [],
   "source": [
    "def build_ngram(data, n):\n",
    "    \n",
    "    '''\n",
    "    Parameters:\n",
    "    data (list of lists): each list is a sentence of the text \n",
    "    n (int): size of the n-gram\n",
    "    \n",
    "    Returns:\n",
    "    prob (dictionary of dictionary)\n",
    "    {\n",
    "        context: {word:probability of this word given context}\n",
    "    }\n",
    "    '''\n",
    "    \n",
    "#     total_number_words = 0\n",
    "    counts = defaultdict(lambda: defaultdict(lambda: 0.0))\n",
    "\n",
    "    for sentence in data:\n",
    "        sentence = tuple(sentence)\n",
    "        ## FILL CODE\n",
    "        # dict can be indexed by tuples\n",
    "        # store in the same dict all the ngrams\n",
    "        # by using the context as a key and the word as a value\n",
    "        for i in range(len(sentence)):\n",
    "#             total_number_words +=1\n",
    "            for j in range(n):\n",
    "                if i-j>=0:\n",
    "                    context=sentence[i-j:i]\n",
    "                    counts[context][sentence[i]] +=1\n",
    "                else:\n",
    "                    break\n",
    "    prob = defaultdict(lambda: defaultdict(lambda: 0.0))\n",
    "    # Build the probabilities from the counts\n",
    "    # Be careful with how you normalize!\n",
    "\n",
    "    for context in counts.keys():\n",
    "        ## FILL CODE\n",
    "        d=0\n",
    "        for w in counts[context].keys():\n",
    "            d += counts[context][w]\n",
    "        for w in counts[context].keys():\n",
    "            prob[context][w] = counts[context][w]/d\n",
    "    return prob"
   ]
  },
  {
   "cell_type": "code",
   "execution_count": 28,
   "metadata": {},
   "outputs": [
    {
     "name": "stdout",
     "output_type": "stream",
     "text": [
      "build ngram model with n =  4\n",
      "0.00010608150090169275\n"
     ]
    }
   ],
   "source": [
    "# RUN TO BUILD NGRAM MODEL\n",
    "n = 4\n",
    "print(\"build ngram model with n = \", n)\n",
    "model = build_ngram(train_data, n)\n",
    "print(model[()][\"liked\"])\n",
    "# for key, val in model.items():\n",
    "#     print(key,val)\n",
    "#     break"
   ]
  },
  {
   "cell_type": "markdown",
   "metadata": {},
   "source": [
    "Here, implement a recursive function over shorter and shorter context to compute a \"stupid backoff model\". An interpolation model can also be implemented this way."
   ]
  },
  {
   "cell_type": "code",
   "execution_count": 29,
   "metadata": {},
   "outputs": [],
   "source": [
    "def get_prob(model, context, w):\n",
    "    '''\n",
    "    Parameters: \n",
    "    model (dictionary of dictionary)\n",
    "    {\n",
    "        context: {word:probability of this word given context}\n",
    "    } \n",
    "    context (list of strings): a sentence\n",
    "    w(string): the word we need to find it's probability given the context\n",
    "    \n",
    "    Returns:\n",
    "    prob(float): probability of this word given the context \n",
    "    '''\n",
    "    # code a recursive function over \n",
    "    # smaller and smaller context\n",
    "    # to compute the backoff model\n",
    "\n",
    "    ## FILL CODE\n",
    "    prob=model[context][w] if context in model and w in model[context] else 0.4*get_prob(model, context[1:], w)\n",
    "    return prob"
   ]
  },
  {
   "cell_type": "code",
   "execution_count": 30,
   "metadata": {},
   "outputs": [],
   "source": [
    "def perplexity(model, data, n):\n",
    "    '''\n",
    "    Parameters: \n",
    "    model (dictionary of dictionary)\n",
    "    {\n",
    "        context: {word:probability of this word given context}\n",
    "    } \n",
    "    data (list of lists): each list is a sentence of the text\n",
    "    n(int): size of the n-gram\n",
    "    \n",
    "    Retunrs:\n",
    "    perp(float): the perplexity of the model \n",
    "    '''\n",
    "    ## FILL CODE\n",
    "    perp, T = 1.0, 0\n",
    "    for sentence in data:\n",
    "        sentence = tuple(sentence)\n",
    "        for i in range(1, len(sentence)):\n",
    "            nb_ctx=i if i<n-1 else n-1\n",
    "            context = sentence[i-nb_ctx:i]\n",
    "            perp += -np.log(get_prob(model, context, sentence[i]))\n",
    "            T += 1\n",
    "    perp = np.exp(perp/T)\n",
    "    return perp"
   ]
  },
  {
   "cell_type": "code",
   "execution_count": 31,
   "metadata": {},
   "outputs": [
    {
     "name": "stdout",
     "output_type": "stream",
     "text": [
      "The perplexity of a train data is 5.1709828328983205\n",
      "The perplexity of a validation data is 62.151547962838315\n"
     ]
    }
   ],
   "source": [
    "# COMPUTE PERPLEXITY ON VALIDATION SET\n",
    "n=3\n",
    "print(\"The perplexity of a train data is\", perplexity(model, train_data, n))\n",
    "print(\"The perplexity of a validation data is\", perplexity(model, valid_data, n))"
   ]
  },
  {
   "cell_type": "code",
   "execution_count": 32,
   "metadata": {},
   "outputs": [],
   "source": [
    "def get_proba_distrib(model, context):\n",
    "    ## need to get the the words after the context and their probability of appearance\n",
    "    ## after this context \n",
    "    '''\n",
    "    Parameters: \n",
    "    model (dictionary of dictionary)\n",
    "    {\n",
    "        context: {word:probability of this word given context}\n",
    "    }\n",
    "    context (list of strings): the sentence we need to find the words after it and \n",
    "    thier probabilites\n",
    "    \n",
    "    Retunrs:\n",
    "    words_and_probs(dic): {word: probability of word given context}\n",
    "    \n",
    "    '''\n",
    "    # code a recursive function over context\n",
    "    # to find the longest available ngram\n",
    "    \n",
    "    ## FILL CODE\n",
    "    if context not in model:\n",
    "        words_and_probs=get_proba_distrib(model, context[1:])\n",
    "    else:\n",
    "        words_and_probs=model[context]\n",
    "    return words_and_probs"
   ]
  },
  {
   "cell_type": "code",
   "execution_count": 33,
   "metadata": {},
   "outputs": [],
   "source": [
    "def generate(model):\n",
    "    '''\n",
    "    Parameters: \n",
    "    model (dictionary of dictionary)\n",
    "    {\n",
    "        context: {word:probability of this word given context}\n",
    "    }\n",
    "    \n",
    "    Retunrs:\n",
    "    sentence (list of strings): a sentence sampled according to the language model. \n",
    "    \n",
    "\n",
    "    '''\n",
    "    # generate a sentence. A sentence starts with a <s> and ends with a </s>\n",
    "    # Possiblly a use function is:\n",
    "    # np.random.choice(x, 1, p = y)\n",
    "\n",
    "    # where x is a list of things to sample from\n",
    "    # and y is a list of probability (of the same length as x)\n",
    "    sentence = [\"<s>\"]\n",
    "    N=len(sentence)\n",
    "    while sentence[-1] != \"</s>\" and N<100:\n",
    "        ## FILL CODE\n",
    "        proba = get_proba_distrib(model, tuple(sentence))\n",
    "        w = np.random.choice((list(proba.keys())), 1, p = list(proba.values()))\n",
    "        sentence.append(w[0])\n",
    "        \n",
    "    return sentence"
   ]
  },
  {
   "cell_type": "code",
   "execution_count": 34,
   "metadata": {},
   "outputs": [
    {
     "name": "stdout",
     "output_type": "stream",
     "text": [
      "Generated sentence:  ['<s>', 'mother', 'was', 'in', 'a', 'bad', 'mood', 'since', 'she', 'could', 'not', 'play', 'golf', 'because', 'of', 'bad', 'weather.', '</s>']\n"
     ]
    }
   ],
   "source": [
    "# GENERATE A SENTENCE FROM THE MODEL\n",
    "print(\"Generated sentence: \",generate(model))"
   ]
  },
  {
   "cell_type": "markdown",
   "metadata": {},
   "source": [
    "Once you are done implementing the model, evaluation and generation code, you can try changing the value of `n`, and play with a larger training set (`train2.txt` and `valid2.txt`). You can also try to implement an interpolation model."
   ]
  },
  {
   "cell_type": "code",
   "execution_count": 35,
   "metadata": {},
   "outputs": [
    {
     "name": "stdout",
     "output_type": "stream",
     "text": [
      "Load training set with length: 180000\n",
      "Train data before removing the rare words\n",
      "['<s>', 'this', 'store', 'enjoys', 'a', '<unk>', 'advantage', '.', '</s>']\n",
      "['<s>', 'do', 'you', 'have', 'a', 'subway', 'map', '?', '</s>']\n",
      "['<s>', 'nick', 'looks', 'down', 'on', 'anyone', 'who', 'comes', 'from', 'a', 'rural', 'area', '.', '</s>']\n",
      "\n",
      "\n",
      "liked: 7, decision: 2\n",
      "=========================================================================================================\n",
      "Train data after removing the rare words\n",
      "['<s>', 'this', 'store', 'enjoys', 'a', '<unk>', 'advantage', '.', '</s>']\n",
      "['<s>', 'do', 'you', 'have', 'a', 'subway', 'map', '?', '</s>']\n",
      "['<s>', 'nick', 'looks', 'down', 'on', 'anyone', 'who', 'comes', 'from', 'a', 'rural', 'area', '.', '</s>']\n",
      " \n",
      "Load validation set with length: 20000\n",
      "Validation data before removing the rare words\n",
      "['<s>', 'the', 'wild', 'horse', 'was', 'finally', 'broken', 'by', 'the', 'patient', '<unk>', '.', '</s>']\n",
      "['<s>', 'i', 'have', 'to', 'do', 'my', 'homework', '.', '</s>']\n",
      "['<s>', 'nothing', 'is', 'more', '<unk>', 'than', 'to', 'lose', 'in', 'the', '<unk>', '.', '</s>']\n",
      "=========================================================================================================\n",
      "Validation data after removing the rare words by setting by <unk>\n",
      "['<s>', 'the', 'wild', 'horse', 'was', 'finally', 'broken', 'by', 'the', 'patient', '<unk>', '.', '</s>']\n",
      "['<s>', 'i', 'have', 'to', 'do', 'my', 'homework', '.', '</s>']\n",
      "['<s>', 'nothing', 'is', 'more', '<unk>', 'than', 'to', 'lose', 'in', 'the', '<unk>', '.', '</s>']\n",
      " \n",
      "Build ngram model with n =  3\n",
      "The perplexity of a validation data is given by 36.2558597496594\n",
      "Generated sentence:  ['<s>', 'the', 'deer', 'as', 'fast', 'as', 'she', 'may', 'have', 'been', 'a', 'successful', 'business', '<unk>', '.', '</s>']\n"
     ]
    }
   ],
   "source": [
    "#Set mincount = 1 and n = 2\n",
    "mincount = 1\n",
    "n = 3\n",
    "train_data2, vocab2 = load_data(\"./data/train2.txt\")\n",
    "print(\"Load training set with length: %d\" %len(train_data2))\n",
    "print(\"Train data before removing the rare words\")\n",
    "print(train_data2[10])\n",
    "print(train_data2[190])\n",
    "print(train_data2[-3])\n",
    "print(\"\\n\")\n",
    "print(\"liked: %d, decision: %d\" %(vocab['liked'],vocab['decision']))\n",
    "print(\"=\"*105)\n",
    "train_data2r = remove_rare_words(train_data2, vocab2, mincount)\n",
    "print(\"Train data after removing the rare words\")\n",
    "print(train_data2r[10])\n",
    "print(train_data2r[190])\n",
    "print(train_data2r[-3])\n",
    "print(\" \")\n",
    "\n",
    "valid_data2, _ = load_data(\"./data/valid2.txt\")\n",
    "print(\"Load validation set with length: %d\" %len(valid_data2))\n",
    "print(\"Validation data before removing the rare words\")\n",
    "print(valid_data2[0])\n",
    "print(valid_data2[50])\n",
    "print(valid_data2[-1])\n",
    "print(\"=\"*105)\n",
    "valid_data2 = remove_rare_words(valid_data2, vocab2, mincount)\n",
    "print(\"Validation data after removing the rare words by setting by <unk>\")\n",
    "print(valid_data2[0])\n",
    "print(valid_data2[50])\n",
    "print(valid_data2[-1])\n",
    "print(\" \")\n",
    "\n",
    "print(\"Build ngram model with n = \", n)\n",
    "model2 = build_ngram(train_data2, n)\n",
    "\n",
    "print(\"The perplexity of a validation data is given by\", perplexity(model2, valid_data2, n))\n",
    "\n",
    "print(\"Generated sentence: \",generate(model2))"
   ]
  },
  {
   "cell_type": "code",
   "execution_count": null,
   "metadata": {},
   "outputs": [],
   "source": []
  }
 ],
 "metadata": {
  "kernelspec": {
   "display_name": "Python 3 (ipykernel)",
   "language": "python",
   "name": "python3"
  },
  "language_info": {
   "codemirror_mode": {
    "name": "ipython",
    "version": 3
   },
   "file_extension": ".py",
   "mimetype": "text/x-python",
   "name": "python",
   "nbconvert_exporter": "python",
   "pygments_lexer": "ipython3",
   "version": "3.9.7"
  }
 },
 "nbformat": 4,
 "nbformat_minor": 2
}
