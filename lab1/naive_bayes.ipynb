{
 "cells": [
  {
   "cell_type": "markdown",
   "metadata": {},
   "source": [
    "# Santatriniaina Avotra Randrianambinina"
   ]
  },
  {
   "cell_type": "markdown",
   "metadata": {},
   "source": [
    "The goal of this lab is to implement a language identifier (LID).\n",
    "\n",
    "Our first model will be based on Naive Bayes."
   ]
  },
  {
   "cell_type": "code",
   "execution_count": 1,
   "metadata": {},
   "outputs": [],
   "source": [
    "import io, sys, math, re\n",
    "from collections import defaultdict"
   ]
  },
  {
   "cell_type": "markdown",
   "metadata": {},
   "source": [
    "The next function is used to load the data. Each line of the data consist of a label (corresponding to a language), followed by some text, written in that language. Here is an example of data:\n",
    "\n",
    "```__label__de Zur Namensdeutung gibt es mehrere Varianten.```\n"
   ]
  },
  {
   "cell_type": "code",
   "execution_count": 2,
   "metadata": {},
   "outputs": [],
   "source": [
    "def load_data(filename):\n",
    "    fin = io.open(filename, 'r', encoding='utf-8')\n",
    "    data = []\n",
    "    for line in fin:\n",
    "        tokens = line.split()\n",
    "        data.append((tokens[0], tokens[1:]))\n",
    "    return data"
   ]
  },
  {
   "cell_type": "markdown",
   "metadata": {},
   "source": [
    "You can now try loading the first dataset `train1.txt` and look what examples look like."
   ]
  },
  {
   "cell_type": "code",
   "execution_count": 3,
   "metadata": {},
   "outputs": [
    {
     "name": "stdout",
     "output_type": "stream",
     "text": [
      "('__label__de', ['Ich', 'würde', 'alles', 'tun,', 'um', 'dich', 'zu', 'beschützen.'])\n"
     ]
    }
   ],
   "source": [
    "data = load_data(\"./data/train1.txt\")\n",
    "print(data[0])"
   ]
  },
  {
   "cell_type": "markdown",
   "metadata": {},
   "source": [
    "Next, we will start implementing the Naive Bayes method. This technique is based on word counts, and we thus need to start by implementing a function to count the words and labels of our training set.\n",
    "\n",
    "`n_examples` is the total number of examples\n",
    "\n",
    "`n_words_per_label` is the total number of words for a given label\n",
    "\n",
    "`label_counts` is the number of times a given label appears in the training data\n",
    "\n",
    "`word_counts` is the number of times a word appears with a given label"
   ]
  },
  {
   "cell_type": "code",
   "execution_count": 4,
   "metadata": {},
   "outputs": [
    {
     "data": {
      "text/plain": [
       "{'label_counts': defaultdict(<function __main__.count_words.<locals>.<lambda>()>,\n",
       "             {'__label__de': 3.0, '__label__hu': 1.0, '__label__ru': 1.0}),\n",
       " 'word_counts': defaultdict(<function __main__.count_words.<locals>.<lambda>()>,\n",
       "             {'__label__de': defaultdict(<function __main__.count_words.<locals>.<lambda>.<locals>.<lambda>()>,\n",
       "                          {'Ich': 1.0,\n",
       "                           'würde': 1.0,\n",
       "                           'alles': 1.0,\n",
       "                           'tun,': 1.0,\n",
       "                           'um': 1.0,\n",
       "                           'dich': 1.0,\n",
       "                           'zu': 1.0,\n",
       "                           'beschützen.': 1.0,\n",
       "                           'Tom': 1.0,\n",
       "                           'ist': 1.0,\n",
       "                           'an': 2.0,\n",
       "                           'Kunst': 1.0,\n",
       "                           'völlig': 1.0,\n",
       "                           'uninteressiert.': 1.0,\n",
       "                           '„Wird': 1.0,\n",
       "                           'das': 2.0,\n",
       "                           'in': 1.0,\n",
       "                           'der': 1.0,\n",
       "                           'Werkstatt': 1.0,\n",
       "                           'gemacht?“': 1.0,\n",
       "                           '–': 1.0,\n",
       "                           '„Nein,': 1.0,\n",
       "                           'muss': 1.0,\n",
       "                           'Ort': 1.0,\n",
       "                           'und': 1.0,\n",
       "                           'Stelle': 1.0,\n",
       "                           'erledigt': 1.0,\n",
       "                           'werden.“': 1.0}),\n",
       "              '__label__hu': defaultdict(<function __main__.count_words.<locals>.<lambda>.<locals>.<lambda>()>,\n",
       "                          {'Végeztem': 1.0, 'Tomival.': 1.0}),\n",
       "              '__label__ru': defaultdict(<function __main__.count_words.<locals>.<lambda>.<locals>.<lambda>()>,\n",
       "                          {'У': 1.0,\n",
       "                           'меня': 1.0,\n",
       "                           'есть': 1.0,\n",
       "                           'яблоко.': 1.0})}),\n",
       " 'n_examples': 5.0,\n",
       " 'n_words_per_label': defaultdict(<function __main__.count_words.<locals>.<lambda>()>,\n",
       "             {'__label__de': 30.0, '__label__hu': 2.0, '__label__ru': 4.0})}"
      ]
     },
     "execution_count": 4,
     "metadata": {},
     "output_type": "execute_result"
    }
   ],
   "source": [
    "def count_words(data):\n",
    "    n_examples = 0\n",
    "    n_words_per_label = defaultdict(lambda: 0)\n",
    "    label_counts = defaultdict(lambda: 0)\n",
    "    word_counts = defaultdict(lambda: defaultdict(lambda: 0.0))\n",
    "\n",
    "    for example in data:\n",
    "        label, sentence = example\n",
    "         ## FILL CODE\n",
    "        n_examples+=1.0  ##sum c(k)\n",
    "        label_counts[label] += 1.0  ##c(k)\n",
    "        for w in sentence:\n",
    "            n_words_per_label[label]+= 1.0  ##sum_j c(j,k)\n",
    "            word_counts[label][w] += 1.0    ##c(j,k)\n",
    "        \n",
    "    return {'label_counts': label_counts, \n",
    "            'word_counts': word_counts, \n",
    "            'n_examples': n_examples, \n",
    "            'n_words_per_label': n_words_per_label}\n",
    "count_words(data[:5])"
   ]
  },
  {
   "cell_type": "markdown",
   "metadata": {},
   "source": [
    "Next, using the word and label counts from the previous function, we can implement the prediction function.\n",
    "\n",
    "Here, `mu` is a regularization parameter (Laplace smoothing), and `sentence` is the list of words corresponding to the test example."
   ]
  },
  {
   "cell_type": "code",
   "execution_count": 5,
   "metadata": {},
   "outputs": [],
   "source": [
    "def predict(sentence, mu, label_counts, word_counts, n_examples, n_words_per_label):\n",
    "    best_label = None\n",
    "    best_score = float('-inf')\n",
    "    for label in word_counts.keys():\n",
    "        score = 0.0\n",
    "        ## FILL CODE\n",
    "        V=len(word_counts[label])\n",
    "#         return V\n",
    "        for w in sentence:\n",
    "            wc=mu+word_counts[label][w]\n",
    "            total_counts=(mu*V)+n_words_per_label[label]\n",
    "            score+=math.log(wc / total_counts)\n",
    "        if best_score < score:\n",
    "            best_label=label\n",
    "            best_score=score\n",
    "    return best_label"
   ]
  },
  {
   "cell_type": "markdown",
   "metadata": {},
   "source": [
    "The next function will be used to evaluate the Naive Bayes model on a validation set. It computes the accuracy for a particular regularization parameter `mu`."
   ]
  },
  {
   "cell_type": "code",
   "execution_count": 6,
   "metadata": {},
   "outputs": [],
   "source": [
    "def compute_accuracy(valid_data, mu, counts):\n",
    "    label_counts=counts['label_counts']\n",
    "    word_counts=counts['word_counts']\n",
    "    n_examples=counts['n_examples'] \n",
    "    n_words_per_label=counts['n_words_per_label']\n",
    "    accuracy = 0.0\n",
    "    cntr=0\n",
    "    N=len(valid_data)\n",
    "    for label, sentence in valid_data:\n",
    "        ## FILL CODE\n",
    "        prediction=predict(sentence, mu, label_counts, word_counts, n_examples, n_words_per_label)\n",
    "        if prediction==label:\n",
    "            cntr+=1.0\n",
    "    accuracy=cntr/N\n",
    "    return accuracy"
   ]
  },
  {
   "cell_type": "code",
   "execution_count": 7,
   "metadata": {},
   "outputs": [
    {
     "name": "stdout",
     "output_type": "stream",
     "text": [
      "\n",
      "** Naive Bayes **\n",
      "\n",
      "Validation accuracy: 0.915\n",
      "\n"
     ]
    }
   ],
   "source": [
    "print(\"\")\n",
    "print(\"** Naive Bayes **\")\n",
    "print(\"\")\n",
    "\n",
    "mu = 1.0\n",
    "train_data = load_data(\"./data/train1.txt\")\n",
    "valid_data = load_data(\"./data/valid1.txt\")\n",
    "counts = count_words(train_data)\n",
    "\n",
    "print(\"Validation accuracy: %.3f\" % compute_accuracy(valid_data, 1, counts))\n",
    "print(\"\")"
   ]
  },
  {
   "cell_type": "code",
   "execution_count": 8,
   "metadata": {},
   "outputs": [
    {
     "name": "stdout",
     "output_type": "stream",
     "text": [
      "\n",
      "** Naive Bayes **\n",
      "\n",
      "Validation accuracy: 0.966\n",
      "\n"
     ]
    }
   ],
   "source": [
    "print(\"\")\n",
    "print(\"** Naive Bayes **\")\n",
    "print(\"\")\n",
    "\n",
    "mu = 1.0\n",
    "train_data = load_data(\"./data/train2.txt\")\n",
    "valid_data = load_data(\"./data/valid2.txt\")\n",
    "counts = count_words(train_data)\n",
    "\n",
    "print(\"Validation accuracy: %.3f\" % compute_accuracy(valid_data, 1, counts))\n",
    "print(\"\")"
   ]
  },
  {
   "cell_type": "code",
   "execution_count": null,
   "metadata": {},
   "outputs": [],
   "source": []
  }
 ],
 "metadata": {
  "kernelspec": {
   "display_name": "Python 3 (ipykernel)",
   "language": "python",
   "name": "python3"
  },
  "language_info": {
   "codemirror_mode": {
    "name": "ipython",
    "version": 3
   },
   "file_extension": ".py",
   "mimetype": "text/x-python",
   "name": "python",
   "nbconvert_exporter": "python",
   "pygments_lexer": "ipython3",
   "version": "3.9.7"
  }
 },
 "nbformat": 4,
 "nbformat_minor": 2
}
